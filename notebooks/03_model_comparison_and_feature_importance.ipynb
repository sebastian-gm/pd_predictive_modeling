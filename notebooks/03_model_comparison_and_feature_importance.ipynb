{
 "cells": [
  {
   "cell_type": "markdown",
   "id": "faf8aa0d-7abb-42c6-8cfd-2412458b7ece",
   "metadata": {},
   "source": [
    "# Model Comparison and Feature Importance\n",
    "\n",
    "In this notebook, I will:\n",
    "1. Compare multiple machine learning algorithms beyond Logistic Regression, such as Random Forest and XGBoost, to see if I can improve predictive performance.\n",
    "2. Implement basic hyperparameter tuning (e.g., using `GridSearchCV`) to optimize model settings.\n",
    "3. Evaluate models using metrics crucial for credit risk analysis, such as AUC-ROC and Precision-Recall, since identifying \"bad\" credit risks can be more important than overall accuracy.\n",
    "4. Explore feature importance and model interpretability. Understanding which features influence the model’s decisions is vital in credit risk contexts, where explainability and compliance are often required.\n",
    "\n",
    "By the end of this notebook, I hope to identify a model that outperforms the initial baselines and to have a better understanding of what drives predictions, setting the stage for a final, interpretable, and reliable credit risk model."
   ]
  },
  {
   "cell_type": "code",
   "execution_count": 39,
   "id": "8c5d5cac-4036-4c3b-bc3e-fb475bcfb1fc",
   "metadata": {},
   "outputs": [
    {
     "name": "stdout",
     "output_type": "stream",
     "text": [
      "X_train shape: (800, 48)\n",
      "X_test shape: (200, 48)\n",
      "y_train shape: (800,)\n",
      "y_test shape: (200,)\n"
     ]
    }
   ],
   "source": [
    "import joblib\n",
    "import pandas as pd\n",
    "import numpy as np\n",
    "from sklearn.metrics import accuracy_score, confusion_matrix, classification_report, roc_auc_score, RocCurveDisplay, PrecisionRecallDisplay\n",
    "from sklearn.ensemble import RandomForestClassifier\n",
    "from sklearn.model_selection import GridSearchCV, train_test_split\n",
    "from xgboost import XGBClassifier\n",
    "\n",
    "# Load the data\n",
    "X_train = joblib.load(\"../data/X_train.pkl\")\n",
    "X_test = joblib.load(\"../data/X_test.pkl\")\n",
    "y_train = joblib.load(\"../data/y_train.pkl\")\n",
    "y_test = joblib.load(\"../data/y_test.pkl\")\n",
    "\n",
    "print(\"X_train shape:\", X_train.shape)\n",
    "print(\"X_test shape:\", X_test.shape)\n",
    "print(\"y_train shape:\", y_train.shape)\n",
    "print(\"y_test shape:\", y_test.shape)"
   ]
  },
  {
   "cell_type": "markdown",
   "id": "372d36f6-8e4b-4d07-9902-08642d67e070",
   "metadata": {},
   "source": [
    "### Random Forest Baseline\n",
    "\n",
    "I'll train a basic Random Forest with default parameters and compare its performance to the Logistic Regression baseline. Random Forests are often good at handling complex interactions between features and may provide better recall for the \"bad\" class."
   ]
  },
  {
   "cell_type": "code",
   "execution_count": 4,
   "id": "634a00aa-6a52-43dc-9507-7241bfc85764",
   "metadata": {},
   "outputs": [
    {
     "name": "stdout",
     "output_type": "stream",
     "text": [
      "Random Forest Accuracy: 0.745\n",
      "Random Forest AUC: 0.7909604519774011\n",
      "\n",
      "Classificaction Report:\n",
      "               precision    recall  f1-score   support\n",
      "\n",
      "           0       0.77      0.91      0.83       141\n",
      "           1       0.62      0.34      0.44        59\n",
      "\n",
      "    accuracy                           0.74       200\n",
      "   macro avg       0.70      0.63      0.64       200\n",
      "weighted avg       0.73      0.74      0.72       200\n",
      "\n"
     ]
    }
   ],
   "source": [
    "rf = RandomForestClassifier(random_state=42)\n",
    "rf.fit(X_train, y_train)\n",
    "y_pred_rf = rf.predict(X_test)\n",
    "\n",
    "acc_rf = accuracy_score(y_test, y_pred_rf)\n",
    "auc_rf = roc_auc_score(y_test, rf.predict_proba(X_test)[:,1]) # Calculate AUC\n",
    "print(\"Random Forest Accuracy:\", acc_rf)\n",
    "print(\"Random Forest AUC:\", auc_rf)\n",
    "\n",
    "print(\"\\nClassificaction Report:\\n\", classification_report(y_test, y_pred_rf))"
   ]
  },
  {
   "cell_type": "markdown",
   "id": "4152a1ce-0127-48d2-94a7-c4890c196a8d",
   "metadata": {},
   "source": [
    "The Random Forest's accuracy and AUC provide a quick snapshot. If the AUC is higher than Logistic Regression’s AUC, it suggests the Random Forest may be better at ranking which customers are more likely to be bad credit risks. I will pay special attention to the recall for the bad class and the AUC-ROC, as these metrics align better with credit risk priorities."
   ]
  },
  {
   "cell_type": "markdown",
   "id": "dab2ccf2-a441-42dd-94e0-ebfefafcbe2c",
   "metadata": {},
   "source": [
    "**Interpretation (Random Forest Baseline):**\n",
    "\n",
    "- **Accuracy (~0.745)**: Slightly lower than the improved Logistic Regression (~0.795).\n",
    "- **AUC (~0.79)**: Decent ranking ability, but I need to check recall for the bad class.\n",
    "- **Bad Credit Recall (~0.34)**: Lower than Logistic Regression’s ~0.59, meaning it misses most bad credit customers.\n",
    "\n",
    "This baseline Random Forest isn't outperforming Logistic Regression at identifying high-risk clients. I may need hyperparameter tuning."
   ]
  },
  {
   "cell_type": "markdown",
   "id": "eb39d159-fc2f-481d-b255-a2a9f7cbdccb",
   "metadata": {},
   "source": [
    "### Hyperparameter Tuning for Random Forest\n",
    "\n",
    "I will try a simple grid search to see if adjusting parameters (like `max_depth`, `n_estimators`, `min_samples_leaf`) can improve the model’s AUC and recall for the bad class."
   ]
  },
  {
   "cell_type": "code",
   "execution_count": 43,
   "id": "6a4d8289-6294-4ede-b845-7cea662d9d05",
   "metadata": {},
   "outputs": [
    {
     "name": "stdout",
     "output_type": "stream",
     "text": [
      "Best Params: {'max_depth': 10, 'min_samples_leaf': 5, 'n_estimators': 100}\n",
      "Best Score (AUC): 0.7623129915833197\n"
     ]
    }
   ],
   "source": [
    "param_grid = {\n",
    "    'n_estimators': [100,300],\n",
    "    'max_depth': [None, 10, 20],\n",
    "    'min_samples_leaf': [1, 2, 5]\n",
    "}\n",
    "\n",
    "grid_search = GridSearchCV(\n",
    "    estimator = RandomForestClassifier(random_state=42),\n",
    "    param_grid = param_grid,\n",
    "    scoring = 'roc_auc',\n",
    "    cv = 3,\n",
    "    n_jobs = -1\n",
    ")\n",
    "\n",
    "grid_search.fit(X_train, y_train)\n",
    "\n",
    "print(\"Best Params:\", grid_search.best_params_)\n",
    "print(\"Best Score (AUC):\", grid_search.best_score_)"
   ]
  },
  {
   "cell_type": "markdown",
   "id": "eca97333-4325-46c1-a992-aa47f23164b7",
   "metadata": {},
   "source": [
    "**Interpreting the Grid Search Results:**\n",
    "\n",
    "- `n_estimators`: Number of trees in the forest. More trees can improve performance but increase training time.\n",
    "- `max_depth`: Maximum depth of the trees. Deeper trees can model complex relationships but may overfit.\n",
    "- `min_samples_leaf`: Minimum samples per leaf. Increasing this can reduce overfitting.\n",
    "\n",
    "The best parameters found by GridSearchCV will be used to retrain the Random Forest and evaluate again.\n"
   ]
  },
  {
   "cell_type": "code",
   "execution_count": 10,
   "id": "af84e6aa-656d-4fe0-8f92-1640f4fd51d4",
   "metadata": {},
   "outputs": [
    {
     "name": "stdout",
     "output_type": "stream",
     "text": [
      "Optimized Random Forest Accuracy: 0.75\n",
      "Optimized Random Forest AUC: 0.8015386464719317\n",
      "\n",
      "Classification Report:\n",
      "               precision    recall  f1-score   support\n",
      "\n",
      "           0       0.75      0.96      0.84       141\n",
      "           1       0.71      0.25      0.38        59\n",
      "\n",
      "    accuracy                           0.75       200\n",
      "   macro avg       0.73      0.61      0.61       200\n",
      "weighted avg       0.74      0.75      0.71       200\n",
      "\n"
     ]
    }
   ],
   "source": [
    "best_rf = grid_search.best_estimator_ \n",
    "y_pred_best_rf = best_rf.predict(X_test)\n",
    "\n",
    "acc_best_rf = accuracy_score(y_test, y_pred_best_rf)\n",
    "auc_best_rf = roc_auc_score(y_test, best_rf.predict_proba(X_test)[:,1])\n",
    "\n",
    "print(\"Optimized Random Forest Accuracy:\", acc_best_rf)\n",
    "print(\"Optimized Random Forest AUC:\", auc_best_rf)\n",
    "print(\"\\nClassification Report:\\n\", classification_report(y_test, y_pred_best_rf))"
   ]
  },
  {
   "cell_type": "markdown",
   "id": "5e8a6453-c5b5-433c-a99c-6e5698580154",
   "metadata": {},
   "source": [
    "**Interpretation (Optimized Random Forest):**\n",
    "\n",
    "- **Accuracy (~0.75)**: Slight improvement.\n",
    "- **AUC (~0.80)**: Slight improvement.\n",
    "- **Bad Credit Recall (~0.25)**: Actually worse than the baseline (0.34).\n",
    "\n",
    "While tuning improved overall metrics slightly, it reduced recall for bad credit even further, making it less suitable for credit risk detection. Let’s try another model."
   ]
  },
  {
   "cell_type": "markdown",
   "id": "404e1037-9813-43c8-a9ce-c8769ceb622b",
   "metadata": {},
   "source": [
    "### Trying XGBoost\n",
    "\n",
    "XGBoost is known for strong performance on tabular data. I’ll try a basic XGBoost model to see if it can improve the balance of performance, particularly recall for bad credit customers.\n"
   ]
  },
  {
   "cell_type": "code",
   "execution_count": 13,
   "id": "e53c85e5-8bb7-41e5-807b-353950404536",
   "metadata": {},
   "outputs": [
    {
     "name": "stdout",
     "output_type": "stream",
     "text": [
      "XGBoost Accuracy: 0.785\n",
      "XGBoost AUC: 0.8139199423007573\n",
      "\n",
      "Classification Report:\n",
      "               precision    recall  f1-score   support\n",
      "\n",
      "           0       0.82      0.89      0.85       141\n",
      "           1       0.67      0.53      0.59        59\n",
      "\n",
      "    accuracy                           0.79       200\n",
      "   macro avg       0.75      0.71      0.72       200\n",
      "weighted avg       0.78      0.79      0.78       200\n",
      "\n"
     ]
    },
    {
     "name": "stderr",
     "output_type": "stream",
     "text": [
      "C:\\Users\\SebastianGM\\anaconda3\\envs\\pd_model_env\\lib\\site-packages\\xgboost\\core.py:158: UserWarning: [07:23:13] WARNING: C:\\buildkite-agent\\builds\\buildkite-windows-cpu-autoscaling-group-i-0c55ff5f71b100e98-1\\xgboost\\xgboost-ci-windows\\src\\learner.cc:740: \n",
      "Parameters: { \"use_label_encoder\" } are not used.\n",
      "\n",
      "  warnings.warn(smsg, UserWarning)\n"
     ]
    }
   ],
   "source": [
    "xgb = XGBClassifier(random_state=42, use_label_encoder=False, eval_metric='logloss')\n",
    "xgb.fit(X_train, y_train)\n",
    "y_pred_xgb = xgb.predict(X_test)\n",
    "\n",
    "acc_xgb = accuracy_score(y_test, y_pred_xgb)\n",
    "auc_xgb = roc_auc_score(y_test, xgb.predict_proba(X_test)[:,1])\n",
    "\n",
    "print(\"XGBoost Accuracy:\", acc_xgb)\n",
    "print(\"XGBoost AUC:\", auc_xgb)\n",
    "print(\"\\nClassification Report:\\n\", classification_report(y_test, y_pred_xgb))"
   ]
  },
  {
   "cell_type": "markdown",
   "id": "bd966c3d-f47d-4b2c-b778-49cb90c80eec",
   "metadata": {},
   "source": [
    "**Interpretation (XGBoost):**\r\n",
    "\r\n",
    "- **Accuracy (~0.785)**: Better than the Random Forest models, slightly below the improved Logistic Regression.\r\n",
    "- **AUC (~0.81)**: Higher than both Logistic Regression and Random Forest.\r\n",
    "- **Bad Credit Recall (~0.53)**: Significantly better than Random Forest, on par with improved Logistic Regression.\r\n",
    "\r\n",
    "XGBoost seems to offer a better balance: it catches more bad credit customers than Random Forest and ranks customers well (high AUC). This makes XGBoost a strong candidate moving foward.\r\n"
   ]
  },
  {
   "cell_type": "markdown",
   "id": "5b1dc1f9-bbe9-4907-a84b-553e21489347",
   "metadata": {},
   "source": [
    "## Feature Importance\n",
    "\n",
    "I’ll examine feature importances from the Random Forest and XGBoost models. This helps confirm which features consistently matter most."
   ]
  },
  {
   "cell_type": "code",
   "execution_count": 16,
   "id": "cf2472ce-f911-4352-8bb2-a24455679512",
   "metadata": {},
   "outputs": [
    {
     "data": {
      "text/html": [
       "<div>\n",
       "<style scoped>\n",
       "    .dataframe tbody tr th:only-of-type {\n",
       "        vertical-align: middle;\n",
       "    }\n",
       "\n",
       "    .dataframe tbody tr th {\n",
       "        vertical-align: top;\n",
       "    }\n",
       "\n",
       "    .dataframe thead th {\n",
       "        text-align: right;\n",
       "    }\n",
       "</style>\n",
       "<table border=\"1\" class=\"dataframe\">\n",
       "  <thead>\n",
       "    <tr style=\"text-align: right;\">\n",
       "      <th></th>\n",
       "      <th>feature</th>\n",
       "      <th>importance</th>\n",
       "    </tr>\n",
       "  </thead>\n",
       "  <tbody>\n",
       "    <tr>\n",
       "      <th>9</th>\n",
       "      <td>Status_of_existing_checking_account_A14</td>\n",
       "      <td>0.137842</td>\n",
       "    </tr>\n",
       "    <tr>\n",
       "      <th>1</th>\n",
       "      <td>Credit_amount</td>\n",
       "      <td>0.129003</td>\n",
       "    </tr>\n",
       "    <tr>\n",
       "      <th>4</th>\n",
       "      <td>Age_in_years</td>\n",
       "      <td>0.100649</td>\n",
       "    </tr>\n",
       "    <tr>\n",
       "      <th>0</th>\n",
       "      <td>Duration_in_month</td>\n",
       "      <td>0.097807</td>\n",
       "    </tr>\n",
       "    <tr>\n",
       "      <th>2</th>\n",
       "      <td>Installment_rate_in_percentage_of_disposable_i...</td>\n",
       "      <td>0.037479</td>\n",
       "    </tr>\n",
       "    <tr>\n",
       "      <th>13</th>\n",
       "      <td>Credit_history_A34</td>\n",
       "      <td>0.036118</td>\n",
       "    </tr>\n",
       "    <tr>\n",
       "      <th>3</th>\n",
       "      <td>Present_residence_since</td>\n",
       "      <td>0.033003</td>\n",
       "    </tr>\n",
       "    <tr>\n",
       "      <th>41</th>\n",
       "      <td>Housing_A152</td>\n",
       "      <td>0.030111</td>\n",
       "    </tr>\n",
       "    <tr>\n",
       "      <th>7</th>\n",
       "      <td>Status_of_existing_checking_account_A12</td>\n",
       "      <td>0.023187</td>\n",
       "    </tr>\n",
       "    <tr>\n",
       "      <th>40</th>\n",
       "      <td>Other_installment_plans_A143</td>\n",
       "      <td>0.022276</td>\n",
       "    </tr>\n",
       "  </tbody>\n",
       "</table>\n",
       "</div>"
      ],
      "text/plain": [
       "                                              feature  importance\n",
       "9             Status_of_existing_checking_account_A14    0.137842\n",
       "1                                       Credit_amount    0.129003\n",
       "4                                        Age_in_years    0.100649\n",
       "0                                   Duration_in_month    0.097807\n",
       "2   Installment_rate_in_percentage_of_disposable_i...    0.037479\n",
       "13                                 Credit_history_A34    0.036118\n",
       "3                             Present_residence_since    0.033003\n",
       "41                                       Housing_A152    0.030111\n",
       "7             Status_of_existing_checking_account_A12    0.023187\n",
       "40                       Other_installment_plans_A143    0.022276"
      ]
     },
     "execution_count": 16,
     "metadata": {},
     "output_type": "execute_result"
    }
   ],
   "source": [
    "importances = best_rf.feature_importances_\n",
    "feature_names = X_train.columns \n",
    "\n",
    "# Create a DataFrame with feature importances\n",
    "feat_imp_df = pd.DataFrame({'feature': feature_names, 'importance': importances})\n",
    "feat_imp_df = feat_imp_df.sort_values('importance', ascending=False)\n",
    "\n",
    "feat_imp_df.head(10)"
   ]
  },
  {
   "cell_type": "markdown",
   "id": "c9cb9174-8849-4c3d-b8a6-fae6d5cc4f82",
   "metadata": {},
   "source": [
    "We see that certain features stand out. To make them more readable, I’ll map some original feature names to cleaner descriptions.\n"
   ]
  },
  {
   "cell_type": "code",
   "execution_count": 18,
   "id": "3a8d38c5-1036-4544-8457-1647c891f4e0",
   "metadata": {},
   "outputs": [
    {
     "data": {
      "text/html": [
       "<div>\n",
       "<style scoped>\n",
       "    .dataframe tbody tr th:only-of-type {\n",
       "        vertical-align: middle;\n",
       "    }\n",
       "\n",
       "    .dataframe tbody tr th {\n",
       "        vertical-align: top;\n",
       "    }\n",
       "\n",
       "    .dataframe thead th {\n",
       "        text-align: right;\n",
       "    }\n",
       "</style>\n",
       "<table border=\"1\" class=\"dataframe\">\n",
       "  <thead>\n",
       "    <tr style=\"text-align: right;\">\n",
       "      <th></th>\n",
       "      <th>feature</th>\n",
       "      <th>importance</th>\n",
       "    </tr>\n",
       "  </thead>\n",
       "  <tbody>\n",
       "    <tr>\n",
       "      <th>9</th>\n",
       "      <td>No Checking Account</td>\n",
       "      <td>0.137842</td>\n",
       "    </tr>\n",
       "    <tr>\n",
       "      <th>1</th>\n",
       "      <td>Credit Amount</td>\n",
       "      <td>0.129003</td>\n",
       "    </tr>\n",
       "    <tr>\n",
       "      <th>4</th>\n",
       "      <td>Age</td>\n",
       "      <td>0.100649</td>\n",
       "    </tr>\n",
       "    <tr>\n",
       "      <th>0</th>\n",
       "      <td>Credit Duration</td>\n",
       "      <td>0.097807</td>\n",
       "    </tr>\n",
       "    <tr>\n",
       "      <th>2</th>\n",
       "      <td>Installment Rate</td>\n",
       "      <td>0.037479</td>\n",
       "    </tr>\n",
       "    <tr>\n",
       "      <th>13</th>\n",
       "      <td>Critical Credit History</td>\n",
       "      <td>0.036118</td>\n",
       "    </tr>\n",
       "    <tr>\n",
       "      <th>3</th>\n",
       "      <td>Years at Residence</td>\n",
       "      <td>0.033003</td>\n",
       "    </tr>\n",
       "    <tr>\n",
       "      <th>41</th>\n",
       "      <td>Own Housing</td>\n",
       "      <td>0.030111</td>\n",
       "    </tr>\n",
       "    <tr>\n",
       "      <th>7</th>\n",
       "      <td>Low Balance Checking</td>\n",
       "      <td>0.023187</td>\n",
       "    </tr>\n",
       "    <tr>\n",
       "      <th>40</th>\n",
       "      <td>No Other Installment Plans</td>\n",
       "      <td>0.022276</td>\n",
       "    </tr>\n",
       "  </tbody>\n",
       "</table>\n",
       "</div>"
      ],
      "text/plain": [
       "                       feature  importance\n",
       "9          No Checking Account    0.137842\n",
       "1                Credit Amount    0.129003\n",
       "4                          Age    0.100649\n",
       "0              Credit Duration    0.097807\n",
       "2             Installment Rate    0.037479\n",
       "13     Critical Credit History    0.036118\n",
       "3           Years at Residence    0.033003\n",
       "41                 Own Housing    0.030111\n",
       "7         Low Balance Checking    0.023187\n",
       "40  No Other Installment Plans    0.022276"
      ]
     },
     "execution_count": 18,
     "metadata": {},
     "output_type": "execute_result"
    }
   ],
   "source": [
    "# Mapping original feature names to clean, readable names\n",
    "clean_feature_names = {\n",
    "    \"Status_of_existing_checking_account_A14\": \"No Checking Account\",\n",
    "    \"Credit_amount\": \"Credit Amount\",\n",
    "    \"Age_in_years\": \"Age\",\n",
    "    \"Duration_in_month\": \"Credit Duration\",\n",
    "    \"Installment_rate_in_percentage_of_disposable_income\": \"Installment Rate\",\n",
    "    \"Credit_history_A34\": \"Critical Credit History\",\n",
    "    \"Present_residence_since\": \"Years at Residence\",\n",
    "    \"Housing_A152\": \"Own Housing\",\n",
    "    \"Status_of_existing_checking_account_A12\": \"Low Balance Checking\",\n",
    "    \"Other_installment_plans_A143\": \"No Other Installment Plans\"\n",
    "}\n",
    "\n",
    "# Replace feature names with clean names\n",
    "feat_imp_df['feature'] = feat_imp_df['feature'].replace(clean_feature_names)\n",
    "\n",
    "# Sort and display the top 10 features\n",
    "feat_imp_df = feat_imp_df.sort_values('importance', ascending=False)\n",
    "feat_imp_df.head(10)"
   ]
  },
  {
   "cell_type": "markdown",
   "id": "7239b2d4-5439-4e01-a45c-8178d8a4e880",
   "metadata": {},
   "source": [
    "### Feature Importance Analysis (Random Forest)\n",
    "\n",
    "Top 10 features suggest:\n",
    "- **No Checking Account** and **Credit Amount** are highly influential.\n",
    "- **Age** and **Credit Duration** also matter significantly.\n",
    "- Installment Rate and Credit History play a moderate role.\n",
    "\n",
    "This aligns with the idea that lack of a checking account, larger loans, and certain demographic/credit history factors raise flags in credit risk assessment."
   ]
  },
  {
   "cell_type": "markdown",
   "id": "9ee5617c-bb12-4b1f-b12e-73c25e626edc",
   "metadata": {},
   "source": [
    "### Feature Importance Analysis (XGBoost)\n",
    "\n",
    "Now, let’s look at the top features from the XGBoost model to see if similar patterns emerge."
   ]
  },
  {
   "cell_type": "code",
   "execution_count": 69,
   "id": "eba93a13-a223-47f7-b08a-d8d268f79e93",
   "metadata": {},
   "outputs": [
    {
     "data": {
      "text/html": [
       "<div>\n",
       "<style scoped>\n",
       "    .dataframe tbody tr th:only-of-type {\n",
       "        vertical-align: middle;\n",
       "    }\n",
       "\n",
       "    .dataframe tbody tr th {\n",
       "        vertical-align: top;\n",
       "    }\n",
       "\n",
       "    .dataframe thead th {\n",
       "        text-align: right;\n",
       "    }\n",
       "</style>\n",
       "<table border=\"1\" class=\"dataframe\">\n",
       "  <thead>\n",
       "    <tr style=\"text-align: right;\">\n",
       "      <th></th>\n",
       "      <th>feature</th>\n",
       "      <th>importance</th>\n",
       "    </tr>\n",
       "  </thead>\n",
       "  <tbody>\n",
       "    <tr>\n",
       "      <th>9</th>\n",
       "      <td>No Checking Account</td>\n",
       "      <td>0.102722</td>\n",
       "    </tr>\n",
       "    <tr>\n",
       "      <th>35</th>\n",
       "      <td>Other_debtors_or_guarantors_A103</td>\n",
       "      <td>0.067574</td>\n",
       "    </tr>\n",
       "    <tr>\n",
       "      <th>8</th>\n",
       "      <td>Status_of_existing_checking_account_A13</td>\n",
       "      <td>0.038816</td>\n",
       "    </tr>\n",
       "    <tr>\n",
       "      <th>25</th>\n",
       "      <td>Savings_account_bonds_A64</td>\n",
       "      <td>0.032750</td>\n",
       "    </tr>\n",
       "    <tr>\n",
       "      <th>38</th>\n",
       "      <td>Property_A124</td>\n",
       "      <td>0.031116</td>\n",
       "    </tr>\n",
       "    <tr>\n",
       "      <th>26</th>\n",
       "      <td>Savings_account_bonds_A65</td>\n",
       "      <td>0.030579</td>\n",
       "    </tr>\n",
       "    <tr>\n",
       "      <th>19</th>\n",
       "      <td>Purpose_A45</td>\n",
       "      <td>0.029664</td>\n",
       "    </tr>\n",
       "    <tr>\n",
       "      <th>13</th>\n",
       "      <td>Critical Credit History</td>\n",
       "      <td>0.028660</td>\n",
       "    </tr>\n",
       "    <tr>\n",
       "      <th>29</th>\n",
       "      <td>Present_employment_since_A74</td>\n",
       "      <td>0.027591</td>\n",
       "    </tr>\n",
       "    <tr>\n",
       "      <th>40</th>\n",
       "      <td>No Other Installment Plans</td>\n",
       "      <td>0.026665</td>\n",
       "    </tr>\n",
       "  </tbody>\n",
       "</table>\n",
       "</div>"
      ],
      "text/plain": [
       "                                    feature  importance\n",
       "9                       No Checking Account    0.102722\n",
       "35         Other_debtors_or_guarantors_A103    0.067574\n",
       "8   Status_of_existing_checking_account_A13    0.038816\n",
       "25                Savings_account_bonds_A64    0.032750\n",
       "38                            Property_A124    0.031116\n",
       "26                Savings_account_bonds_A65    0.030579\n",
       "19                              Purpose_A45    0.029664\n",
       "13                  Critical Credit History    0.028660\n",
       "29             Present_employment_since_A74    0.027591\n",
       "40               No Other Installment Plans    0.026665"
      ]
     },
     "execution_count": 69,
     "metadata": {},
     "output_type": "execute_result"
    }
   ],
   "source": [
    "xgb_importances = xgb.feature_importances_\n",
    "xgb_feat_imp_df = pd.DataFrame({'feature': feature_names, 'importance': xgb_importances})\n",
    "xgb_feat_imp_df['feature'] = xgb_feat_imp_df['feature'].replace(clean_feature_names)\n",
    "xgb_feat_imp_df = xgb_feat_imp_df.sort_values('importance', ascending=False)\n",
    "xgb_feat_imp_df.head(10)"
   ]
  },
  {
   "cell_type": "markdown",
   "id": "b5c0bee2-f931-4032-93ad-6722de30a997",
   "metadata": {},
   "source": [
    "**XGBoost Key Observations:**\n",
    "- **No Checking Account** remains top, consistent across models.\n",
    "- XGBoost also emphasizes guarantors and savings-related features slightly more than Random Forest.\n",
    "- This indicates both models agree on certain key factors but differ in how much they weight others.\n",
    "\n",
    "These differences highlight that while some features (e.g., No Checking Account) are universally important, model choice can affect how other variables are interpreted.\n"
   ]
  },
  {
   "cell_type": "markdown",
   "id": "d48f19be-1794-4788-ac3b-92ec61122103",
   "metadata": {},
   "source": [
    "### SHAP: Enhancing Feature Interpretability\r\n",
    "\r\n",
    "To complement the feature importance analysis, I will use **SHAP (SHapley Additive exPlanations)** to understand how each feature contributes to individual predictions. This provides:\r\n",
    "1. **Global Importance**: Which features matter most across all predictions.\r\n",
    "2. **Local Importance**: How specific features influence individual decisions.\r\n",
    "\r\n",
    "In credit risk contexts, such transparency is valuable for regulatory compliance and stakeholder rust.\r\n"
   ]
  },
  {
   "cell_type": "markdown",
   "id": "347382c7-6996-47e1-b5a7-b58536d48055",
   "metadata": {},
   "source": [
    "#### Ensuring Numeric Data for SHAP\n",
    "\n",
    "SHAP requires that all input features be numeric. Although I have no `object` or `category` types, I do see `bool` (boolean) columns. While boolean columns are numeric (0/1) under the hood, it's safer to convert them explicitly to floats. This step ensures there's no conflict when SHAP tries to interpret the data."
   ]
  },
  {
   "cell_type": "code",
   "execution_count": 73,
   "id": "e94d6608-2fa2-400e-85e1-f69f2ba8cbd8",
   "metadata": {},
   "outputs": [
    {
     "data": {
      "image/png": "[encoded data removed]",
      "text/plain": [
       "<Figure size 800x950 with 1 Axes>"
      ]
     },
     "metadata": {},
     "output_type": "display_data"
    }
   ],
   "source": [
    "import shap\n",
    "\n",
    "# Ensure all features are numeric floats (if any boolean remains)\n",
    "X_train = X_train.astype(float)\n",
    "X_test = X_test.astype(float)\n",
    "\n",
    "explainer = shap.Explainer(xgb, X_train)\n",
    "shap_values = explainer(X_test)\n",
    "\n",
    "shap.summary_plot(shap_values, X_test, plot_type=\"bar\")"
   ]
  },
  {
   "cell_type": "markdown",
   "id": "95afafd2-de6e-4c0d-b901-f8713e6e2f9d",
   "metadata": {},
   "source": [
    "### Interpreting the SHAP Summary Plot\n",
    "\n",
    "The SHAP summary plot confirms earlier insights:\n",
    "\n",
    "- **No Checking Account** dominates the overall contribution.\n",
    "- **Age, Credit Amount, and Credit Duration** also have high impact.\n",
    "- Other features like Critical Credit History, Savings, and Purpose refine the model’s decisions for specific groups.\n",
    "\n",
    "This matches our feature importance findings and provides a clearer, more transparent view of why the model ranks certain customers as higher or lower risk."
   ]
  },
  {
   "cell_type": "code",
   "execution_count": 76,
   "id": "c2ae3d5f-8272-4ab8-85bd-5ebeadace65f",
   "metadata": {},
   "outputs": [
    {
     "data": {
      "text/html": [
       "<div>\n",
       "<style scoped>\n",
       "    .dataframe tbody tr th:only-of-type {\n",
       "        vertical-align: middle;\n",
       "    }\n",
       "\n",
       "    .dataframe tbody tr th {\n",
       "        vertical-align: top;\n",
       "    }\n",
       "\n",
       "    .dataframe thead th {\n",
       "        text-align: right;\n",
       "    }\n",
       "</style>\n",
       "<table border=\"1\" class=\"dataframe\">\n",
       "  <thead>\n",
       "    <tr style=\"text-align: right;\">\n",
       "      <th></th>\n",
       "      <th>Model</th>\n",
       "      <th>Accuracy</th>\n",
       "      <th>AUC</th>\n",
       "      <th>Bad Credit Recall</th>\n",
       "    </tr>\n",
       "  </thead>\n",
       "  <tbody>\n",
       "    <tr>\n",
       "      <th>0</th>\n",
       "      <td>Improved Logistic Regression</td>\n",
       "      <td>0.795</td>\n",
       "      <td>0.8000</td>\n",
       "      <td>0.59</td>\n",
       "    </tr>\n",
       "    <tr>\n",
       "      <th>1</th>\n",
       "      <td>Optimized Random Forest</td>\n",
       "      <td>0.750</td>\n",
       "      <td>0.8000</td>\n",
       "      <td>0.25</td>\n",
       "    </tr>\n",
       "    <tr>\n",
       "      <th>2</th>\n",
       "      <td>XGBoost (Baseline)</td>\n",
       "      <td>0.785</td>\n",
       "      <td>0.8139</td>\n",
       "      <td>0.53</td>\n",
       "    </tr>\n",
       "  </tbody>\n",
       "</table>\n",
       "</div>"
      ],
      "text/plain": [
       "                          Model  Accuracy     AUC  Bad Credit Recall\n",
       "0  Improved Logistic Regression     0.795  0.8000               0.59\n",
       "1       Optimized Random Forest     0.750  0.8000               0.25\n",
       "2            XGBoost (Baseline)     0.785  0.8139               0.53"
      ]
     },
     "execution_count": 76,
     "metadata": {},
     "output_type": "execute_result"
    }
   ],
   "source": [
    "results = {\n",
    "    'Model': ['Improved Logistic Regression', 'Optimized Random Forest', 'XGBoost (Baseline)'],\n",
    "    'Accuracy': [0.795, 0.75, 0.785],\n",
    "    'AUC': [0.80, 0.80, 0.8139],\n",
    "    'Bad Credit Recall': [0.59, 0.25, 0.53]\n",
    "}\n",
    "\n",
    "results_df = pd.DataFrame(results)\n",
    "results_df"
   ]
  },
  {
   "cell_type": "markdown",
   "id": "c26fd356-ab87-4341-9424-30399d5aa02d",
   "metadata": {},
   "source": [
    "### Final Conclusion\n",
    "\n",
    "Throughout this project, I explored various models and techniques to predict credit risk. Starting with baseline models (Logistic Regression, Decision Tree) and progressing to more advanced methods (Random Forest, XGBoost), I aimed to improve key metrics—especially the recall for bad credit customers—since identifying high-risk clients is critical in a lending scenario.\n",
    "\n",
    "**Key Findings:**\n",
    "- **Improved Logistic Regression** struck a decent balance between overall accuracy and recall for the bad class.\n",
    "- **Optimized Random Forest** improved AUC and accuracy slightly but struggled more with recall for bad credit customers.\n",
    "- **XGBoost** offered a good compromise, delivering a high AUC and better recall for the bad class than Random Forest, making it a strong candidate for further refinement.\n",
    "\n",
    "**Interpretability:**\n",
    "- Feature importance and SHAP analyses consistently highlighted the absence of a checking account, credit amount, and certain demographic/loan-related factors as key drivers of the model’s decisions.\n",
    "- This transparency is valuable, as it aligns the model with real-world lending practices and helps stakeholders trust the predictions."
   ]
  }
 ],
 "metadata": {
  "kernelspec": {
   "display_name": "PD Credit Env",
   "language": "python",
   "name": "pd_model_env"
  },
  "language_info": {
   "codemirror_mode": {
    "name": "ipython",
    "version": 3
   },
   "file_extension": ".py",
   "mimetype": "text/x-python",
   "name": "python",
   "nbconvert_exporter": "python",
   "pygments_lexer": "ipython3",
   "version": "3.10.15"
  }
 },
 "nbformat": 4,
 "nbformat_minor": 5
}
